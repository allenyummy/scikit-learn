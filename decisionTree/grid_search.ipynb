{
 "cells": [
  {
   "cell_type": "markdown",
   "metadata": {},
   "source": [
    "## Grid Search for best hyperparameters of Decision Tree model\n",
    "esp. for criterion"
   ]
  },
  {
   "cell_type": "code",
   "execution_count": 2,
   "metadata": {},
   "outputs": [
    {
     "name": "stdout",
     "output_type": "stream",
     "text": [
      "output/5-fold_gini\n",
      "output/5-fold_entropy\n",
      "\n",
      "best_hyper_param of dt model:\n",
      "{'criterion': 'gini'}\n",
      "\n",
      "best performance of dt model:\n",
      "average accuracy of train set in 5-fold: 1.0\n",
      "average accuracy of valid set in 5-fold: 0.9539086844601001\n",
      "average accuracy of test set in 5-fold: 0.937642585551331\n",
      "\n",
      "overall summary for all models\n",
      "  criterion  acc_train_avg  acc_valid_avg  acc_test_avg\n",
      "0      gini            1.0       0.953909      0.937643\n",
      "1   entropy            1.0       0.948991      0.930038\n"
     ]
    }
   ],
   "source": [
    "import os\n",
    "import json\n",
    "import pandas as pd\n",
    "import dt as dt_lib\n",
    "\n",
    "datareader = dt_lib.DataReader(data_dir = '../data/',\n",
    "                               train_valid_file = 'Data_train_validation_2019-1126.xlsx',                                \n",
    "                               test_file = 'Data_test_2019-1126.xlsx',\n",
    "                               feature_in = ['A1','A2','A3','A4','A5','A6','A7','A8','A9','A10','A11','A12','A13','A14','A15','A16','A17'],\n",
    "                               output_col = 'Type',\n",
    "                               k_fold = 5)\n",
    "\n",
    "criterion_list = ['gini','entropy']\n",
    "\n",
    "best_acc = 0\n",
    "best_hyper_param = dict()\n",
    "best_performance = dict()\n",
    "summary = pd.DataFrame(columns=['criterion', 'acc_train_avg', 'acc_valid_avg', 'acc_test_avg'])\n",
    "for criterion in criterion_list:\n",
    "\n",
    "    ## ensure that output dir exists in local\n",
    "    output_dir = f'output/{datareader.k_fold}-fold_{criterion}'\n",
    "    if not os.path.isdir(output_dir):\n",
    "        os.makedirs(output_dir)       \n",
    "\n",
    "    ## create dt object\n",
    "    dt = dt_lib.DT(criterion = criterion)\n",
    "\n",
    "    ## config of datareader and dt\n",
    "    config = dt_lib.configuration(datareader, dt)\n",
    "    with open(output_dir+'/config.json', 'w') as fout:\n",
    "        json.dump(config, fout, indent = 4)\n",
    "\n",
    "    ## run dt with k-fold validation\n",
    "    print (output_dir)\n",
    "    acc_train_avg, acc_valid_avg, acc_test_avg = dt_lib.k_fold_validation(datareader, dt, output_dir)            \n",
    "\n",
    "    ## find the best hyper param of dt model\n",
    "    if acc_valid_avg > best_acc:\n",
    "        best_hyper_param['criterion'] = criterion\n",
    "        best_performance['acc_train_avg'] = acc_train_avg\n",
    "        best_performance['acc_valid_avg'] = acc_valid_avg\n",
    "        best_performance['acc_test_avg'] = acc_test_avg\n",
    "        best_acc = acc_valid_avg\n",
    "\n",
    "    ## record all output in summary\n",
    "    summary.loc[len(summary)] = [criterion, acc_train_avg, acc_valid_avg, acc_test_avg]\n",
    "\n",
    "## check best performace with best hyperparam.\n",
    "print ()\n",
    "print ('best_hyper_param of dt model:')\n",
    "print (best_hyper_param)\n",
    "print ()\n",
    "print ('best performance of dt model:')\n",
    "print (f\"average accuracy of train set in {datareader.k_fold}-fold: {best_performance['acc_train_avg']}\")\n",
    "print (f\"average accuracy of valid set in {datareader.k_fold}-fold: {best_performance['acc_valid_avg']}\")\n",
    "print (f\"average accuracy of test set in {datareader.k_fold}-fold: {best_performance['acc_test_avg']}\")\n",
    "print ()\n",
    "\n",
    "## achieve summary file to dir\n",
    "print ('overall summary for all models')\n",
    "print (summary)\n",
    "summary.to_excel(f'output/Summary_grid-search_{datareader.k_fold}-fold.xlsx')"
   ]
  }
 ],
 "metadata": {
  "kernelspec": {
   "display_name": "Python 3",
   "language": "python",
   "name": "python3"
  },
  "language_info": {
   "codemirror_mode": {
    "name": "ipython",
    "version": 3
   },
   "file_extension": ".py",
   "mimetype": "text/x-python",
   "name": "python",
   "nbconvert_exporter": "python",
   "pygments_lexer": "ipython3",
   "version": "3.7.5"
  }
 },
 "nbformat": 4,
 "nbformat_minor": 4
}
